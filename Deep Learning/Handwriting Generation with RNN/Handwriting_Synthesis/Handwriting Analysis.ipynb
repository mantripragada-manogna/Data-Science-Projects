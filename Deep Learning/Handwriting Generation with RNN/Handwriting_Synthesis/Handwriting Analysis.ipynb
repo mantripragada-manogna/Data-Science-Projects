{
 "cells": [
  {
   "cell_type": "markdown",
   "metadata": {},
   "source": [
    "# Preprocessing Data for Handwriting generation"
   ]
  },
  {
   "cell_type": "markdown",
   "metadata": {},
   "source": [
    "## Abstract\n",
    "\n",
    "Here we will extract the labels and the co-ordinates from the dataset which can be provided to the training module to generate a LSTM model. The data is in a xml format and is taken from the \"IAM On-Line Handwriting Database\". It consist of ascii text lines and its corresponding x and y co-ordinates. We extract the data by traversing through all te xml files and the tags in those files and converting them into numpy arrays. We also perform normalization of co-ordinates."
   ]
  },
  {
   "cell_type": "markdown",
   "metadata": {},
   "source": [
    "#### Loading Libraries"
   ]
  },
  {
   "cell_type": "code",
   "execution_count": 1,
   "metadata": {},
   "outputs": [],
   "source": [
    "import os\n",
    "import html\n",
    "import pickle\n",
    "import numpy as np\n",
    "import xml.etree.cElementTree as ElementTree"
   ]
  },
  {
   "cell_type": "markdown",
   "metadata": {},
   "source": [
    "### Process data\n",
    "\n",
    "* Here traverse through all the XML files and then extract the x an y co-ordinates and the text corresponding to thoes co-ordinates. \n",
    "* We then normalize the co-ordinates by subtracting the mean and dividing by standard diviation"
   ]
  },
  {
   "cell_type": "code",
   "execution_count": 2,
   "metadata": {},
   "outputs": [
    {
     "name": "stdout",
     "output_type": "stream",
     "text": [
      "Done\n"
     ]
    }
   ],
   "source": [
    "data = []\n",
    "charset = set()\n",
    "file_no = 0\n",
    "path = 'data'\n",
    "\n",
    "for root, dirs, files in os.walk(path):\n",
    "    for file in files:\n",
    "        file_no+=1\n",
    "        file_name, extension = os.path.splitext(file)\n",
    "        if extension == '.xml':\n",
    "            xml = ElementTree.parse(os.path.join(root, file)).getroot()\n",
    "            transcription = xml.findall('Transcription')\n",
    "            if not transcription:\n",
    "                continue\n",
    "            texts = [html.unescape(tag.get('text')) for tag in xml.findall('Transcription')[0].findall('TextLine')]\n",
    "\n",
    "            stroke = [s.findall('Point') for s in xml.findall('StrokeSet')[0].findall('Stroke')]\n",
    "            points = [np.array([[int(p.get('x')), int(p.get('y')), 0] for p in point_tag]) for point_tag in stroke]\n",
    "\n",
    "            strokes = []\n",
    "            mid_points = []\n",
    "\n",
    "            for point in points:\n",
    "                point[-1, 2] = 1\n",
    "\n",
    "                xmax, ymax = max(point, key=lambda x: x[0])[0], max(point, key=lambda x: x[1])[1]\n",
    "                xmin, ymin = min(point, key=lambda x: x[0])[0], min(point, key=lambda x: x[1])[1]\n",
    "\n",
    "                strokes += [point]\n",
    "                mid_points += [[(xmax + xmin) / 2., (ymax + ymin) / 2.]]\n",
    "\n",
    "            distances = [-(abs(p1[0] - p2[0]) + abs(p1[1] - p2[1])) for p1, p2 in zip(mid_points, mid_points[1:])]\n",
    "            splits = sorted(np.argsort(distances)[:len(texts) - 1] + 1)\n",
    "\n",
    "            lines = []\n",
    "            for b, e in zip([0] + splits, splits + [len(strokes)]):\n",
    "                lines += [[p for pts in strokes[b:e] for p in pts]]\n",
    "\n",
    "            charset |= set(''.join(texts))\n",
    "            data += [(texts, lines)]\n",
    "print(\"Done\")"
   ]
  },
  {
   "cell_type": "markdown",
   "metadata": {},
   "source": [
    "Here we align the co-ordinates as strokes to the labels."
   ]
  },
  {
   "cell_type": "code",
   "execution_count": 3,
   "metadata": {},
   "outputs": [],
   "source": [
    "translation = {'<NULL>': 0}\n",
    "for c in ''.join(sorted(charset)):\n",
    "    translation[c] = len(translation)\n",
    "\n",
    "dataset = []\n",
    "labels = []\n",
    "for texts, lines in data:\n",
    "    for text, line in zip(texts, lines):\n",
    "        line = np.array(line, dtype=np.float32)\n",
    "        line[:, 0] = line[:, 0] - np.min(line[:, 0])\n",
    "        line[:, 1] = line[:, 1] - np.min(line[:, 1])\n",
    "\n",
    "        dataset += [line]\n",
    "        labels += [list(map(lambda x: translation[x], text))]"
   ]
  },
  {
   "cell_type": "code",
   "execution_count": 4,
   "metadata": {},
   "outputs": [
    {
     "name": "stdout",
     "output_type": "stream",
     "text": [
      "datset = 10867; labels = 10867\n"
     ]
    }
   ],
   "source": [
    "whole_data = np.concatenate(dataset, axis=0)\n",
    "std_y = np.std(whole_data[:, 1])\n",
    "norm_data = []\n",
    "for line in dataset:\n",
    "    line[:, :2] /= std_y\n",
    "    norm_data += [line]\n",
    "dataset = norm_data\n",
    "\n",
    "print('datset = {}; labels = {}'.format(len(dataset), len(labels)))"
   ]
  },
  {
   "cell_type": "markdown",
   "metadata": {},
   "source": [
    "Saving the co-ordinates, lables and translation in a file."
   ]
  },
  {
   "cell_type": "code",
   "execution_count": 5,
   "metadata": {},
   "outputs": [],
   "source": [
    "try:\n",
    "    os.makedirs('processed_data')\n",
    "except FileExistsError:\n",
    "    pass\n",
    "np.save(os.path.join('processed_data', 'dataset'), np.array(dataset))\n",
    "np.save(os.path.join('processed_data', 'labels'), np.array(labels))\n",
    "with open(os.path.join('processed_data', 'translation.pkl'), 'wb') as file:\n",
    "    pickle.dump(translation, file)"
   ]
  },
  {
   "cell_type": "markdown",
   "metadata": {},
   "source": [
    "#### Verifying transformed data\n",
    "\n",
    "we can plot the strokes using matplotlib plot function\n",
    "Each stroke can be identified by the individual colors"
   ]
  },
  {
   "cell_type": "code",
   "execution_count": 9,
   "metadata": {},
   "outputs": [
    {
     "data": {
      "image/png": "[encoded data removed]",
      "text/plain": [
       "<Figure size 720x160 with 1 Axes>"
      ]
     },
     "metadata": {},
     "output_type": "display_data"
    }
   ],
   "source": [
    "import matplotlib.pyplot as plt\n",
    "from matplotlib.pyplot import figure\n",
    "import seaborn as sns\n",
    "%matplotlib inline \n",
    "\n",
    "def split_strokes(points):\n",
    "    points = np.array(points)\n",
    "    strokes = []\n",
    "    b = 0\n",
    "    for e in range(len(points)):\n",
    "        if points[e, 2] == 1.:\n",
    "            strokes += [points[b: e + 1, :2].copy()]\n",
    "            b = e + 1\n",
    "    return strokes\n",
    "\n",
    "def cumsum(points):\n",
    "    sums = np.cumsum(points[:, :2], axis=0)\n",
    "    return np.concatenate([sums, points[:, 2:]], axis=1)\n",
    "\n",
    "figure(num=None, figsize=(9, 2), dpi=80, facecolor='w', edgecolor='k')\n",
    "for stroke in split_strokes(np.array(dataset[0])):\n",
    "    plt.plot(stroke[:, 0], -stroke[:, 1])\n",
    "plt.show()"
   ]
  },
  {
   "cell_type": "markdown",
   "metadata": {},
   "source": [
    "### Conclusion\n",
    "\n",
    "1. The data consists of co-ordinates (x, y, end of stroke) alond with the corresponding text labels\n",
    "2. The co-ordinates are normalized\n",
    "3. the lable need to be one hot encoded befor providing for training. (this will be done in the training module)"
   ]
  },
  {
   "cell_type": "markdown",
   "metadata": {},
   "source": [
    "## Licence\n",
    "\n",
    "<div class=\"alert alert-block alert-info\">\n",
    "MIT License \n",
    "\n",
    "Copyright (c) 2019 Ninad Subhedar \n",
    "\n",
    "Permission is hereby granted, free of charge, to any person obtaining a copy of this software and associated documentation files (the \"Software\"), to deal in the Software without restriction, including without limitation the rights to use, copy, modify, merge, publish, distribute, sublicense, and/or sell copies of the Software, and to permit persons to whom the Software is furnished to do so, subject to the following conditions: \n",
    "\n",
    "The above copyright notice and this permission notice shall be included in all copies or substantial portions of the Software. \n",
    "\n",
    "THE SOFTWARE IS PROVIDED \"AS IS\", WITHOUT WARRANTY OF ANY KIND, EXPRESS OR IMPLIED, INCLUDING BUT NOT LIMITED TO THE WARRANTIES OF MERCHANTABILITY, FITNESS FOR A PARTICULAR PURPOSE AND NONINFRINGEMENT. IN NO EVENT SHALL THE AUTHORS OR COPYRIGHT HOLDERS BE LIABLE FOR ANY CLAIM, DAMAGES OR OTHER LIABILITY, WHETHER IN AN ACTION OF CONTRACT, TORT OR OTHERWISE, ARISING FROM, OUT OF OR IN CONNECTION WITH THE SOFTWARE OR THE USE OR OTHER DEALINGS IN THE SOFTWARE.\n",
    "</div>"
   ]
  }
 ],
 "metadata": {
  "kernelspec": {
   "display_name": "Python 3",
   "language": "python",
   "name": "python3"
  },
  "language_info": {
   "codemirror_mode": {
    "name": "ipython",
    "version": 3
   },
   "file_extension": ".py",
   "mimetype": "text/x-python",
   "name": "python",
   "nbconvert_exporter": "python",
   "pygments_lexer": "ipython3",
   "version": "3.7.1"
  }
 },
 "nbformat": 4,
 "nbformat_minor": 2
}
